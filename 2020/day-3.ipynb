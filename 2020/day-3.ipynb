{
 "cells": [
  {
   "cell_type": "code",
   "execution_count": 1,
   "metadata": {},
   "outputs": [],
   "source": [
    "with open(\"day-3-input.txt\", \"rt\") as f:\n",
    "    inp = f.readlines()\n",
    "\n",
    "inp = [l.strip() for l in inp]"
   ]
  },
  {
   "cell_type": "markdown",
   "metadata": {},
   "source": [
    "----"
   ]
  },
  {
   "cell_type": "markdown",
   "metadata": {},
   "source": [
    "## part 1"
   ]
  },
  {
   "cell_type": "code",
   "execution_count": 2,
   "metadata": {},
   "outputs": [],
   "source": [
    "from itertools import cycle"
   ]
  },
  {
   "cell_type": "code",
   "execution_count": 3,
   "metadata": {},
   "outputs": [],
   "source": [
    "def get_n_trees(inp, down, right):\n",
    "    width = len(inp[0])\n",
    "    depth = len(inp)\n",
    "\n",
    "    found_trees = 0\n",
    "    i = 0\n",
    "    current_depth = 0\n",
    "\n",
    "    a = cycle(inp)\n",
    "    row = next(a)\n",
    "\n",
    "    while True:\n",
    "        if current_depth >= depth:\n",
    "            return found_trees\n",
    "            \n",
    "        if i >= width:\n",
    "            i = i - width\n",
    "        if row[i] == \"#\":\n",
    "            found_trees += 1\n",
    "        i += right\n",
    "        \n",
    "        for _ in range(down):\n",
    "            row = next(a)\n",
    "            current_depth += 1"
   ]
  },
  {
   "cell_type": "code",
   "execution_count": 4,
   "metadata": {},
   "outputs": [
    {
     "data": {
      "text/plain": [
       "178"
      ]
     },
     "execution_count": 4,
     "metadata": {},
     "output_type": "execute_result"
    }
   ],
   "source": [
    "get_n_trees(inp, 1, 3)"
   ]
  },
  {
   "cell_type": "markdown",
   "metadata": {},
   "source": [
    "---"
   ]
  },
  {
   "cell_type": "markdown",
   "metadata": {},
   "source": [
    "## part 2"
   ]
  },
  {
   "cell_type": "code",
   "execution_count": 5,
   "metadata": {},
   "outputs": [],
   "source": [
    "args = [\n",
    "    {\"right\": 1, \"down\": 1},\n",
    "    {\"right\": 3, \"down\": 1},\n",
    "    {\"right\": 5, \"down\": 1},\n",
    "    {\"right\": 7, \"down\": 1},\n",
    "    {\"right\": 1, \"down\": 2},\n",
    "]"
   ]
  },
  {
   "cell_type": "code",
   "execution_count": 6,
   "metadata": {},
   "outputs": [],
   "source": [
    "trees_mult = 0\n",
    "for arg in args:\n",
    "    n_trees = get_n_trees(inp, **arg)\n",
    "    if not trees_mult:\n",
    "        trees_mult = n_trees\n",
    "    else:\n",
    "        trees_mult *= n_trees"
   ]
  },
  {
   "cell_type": "code",
   "execution_count": 7,
   "metadata": {},
   "outputs": [
    {
     "data": {
      "text/plain": [
       "3492520200"
      ]
     },
     "execution_count": 7,
     "metadata": {},
     "output_type": "execute_result"
    }
   ],
   "source": [
    "trees_mult"
   ]
  },
  {
   "cell_type": "code",
   "execution_count": null,
   "metadata": {},
   "outputs": [],
   "source": []
  }
 ],
 "metadata": {
  "kernelspec": {
   "display_name": "Python 3",
   "language": "python",
   "name": "python3"
  },
  "language_info": {
   "codemirror_mode": {
    "name": "ipython",
    "version": 3
   },
   "file_extension": ".py",
   "mimetype": "text/x-python",
   "name": "python",
   "nbconvert_exporter": "python",
   "pygments_lexer": "ipython3",
   "version": "3.7.9"
  }
 },
 "nbformat": 4,
 "nbformat_minor": 4
}
