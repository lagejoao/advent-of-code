{
 "cells": [
  {
   "cell_type": "code",
   "execution_count": 14,
   "metadata": {},
   "outputs": [],
   "source": [
    "with open(\"day-2-input.txt\", \"rt\") as f:\n",
    "    inp = f.readlines()\n",
    "\n",
    "inp = [l.strip() for l in inp]"
   ]
  },
  {
   "cell_type": "markdown",
   "metadata": {},
   "source": [
    "----"
   ]
  },
  {
   "cell_type": "markdown",
   "metadata": {},
   "source": [
    "## part 1"
   ]
  },
  {
   "cell_type": "code",
   "execution_count": 7,
   "metadata": {},
   "outputs": [],
   "source": [
    "n_pws_correct = 0\n",
    "for row in inp:\n",
    "    policy, val, pw = row.split()\n",
    "\n",
    "    val = val[0]\n",
    "    min_, max_ = policy.split(\"-\")\n",
    "    min_, max_ = int(min_), int(max_)\n",
    "    \n",
    "    n_char_policy = 0\n",
    "    for pw_char in pw:\n",
    "        if pw_char == val:\n",
    "            n_char_policy += 1\n",
    "    if min_ <= n_char_policy <= max_:\n",
    "        n_pws_correct += 1"
   ]
  },
  {
   "cell_type": "code",
   "execution_count": 8,
   "metadata": {},
   "outputs": [
    {
     "data": {
      "text/plain": [
       "456"
      ]
     },
     "execution_count": 8,
     "metadata": {},
     "output_type": "execute_result"
    }
   ],
   "source": [
    "n_pws_correct"
   ]
  },
  {
   "cell_type": "markdown",
   "metadata": {},
   "source": [
    "---"
   ]
  },
  {
   "cell_type": "markdown",
   "metadata": {},
   "source": [
    "## part 2"
   ]
  },
  {
   "cell_type": "code",
   "execution_count": 19,
   "metadata": {},
   "outputs": [],
   "source": [
    "n_pws_correct = 0\n",
    "for row in inp:\n",
    "    policy, val, pw = row.split()\n",
    "\n",
    "    val = val[0]\n",
    "    min_, max_ = policy.split(\"-\")\n",
    "    min_, max_ = int(min_), int(max_)\n",
    "    \n",
    "    is_correct = (val==pw[min_-1]) != (val==pw[max_-1])\n",
    "    if is_correct:\n",
    "        n_pws_correct += 1"
   ]
  },
  {
   "cell_type": "code",
   "execution_count": 20,
   "metadata": {},
   "outputs": [
    {
     "data": {
      "text/plain": [
       "308"
      ]
     },
     "execution_count": 20,
     "metadata": {},
     "output_type": "execute_result"
    }
   ],
   "source": [
    "n_pws_correct"
   ]
  },
  {
   "cell_type": "code",
   "execution_count": null,
   "metadata": {},
   "outputs": [],
   "source": []
  }
 ],
 "metadata": {
  "kernelspec": {
   "display_name": "Python 3",
   "language": "python",
   "name": "python3"
  },
  "language_info": {
   "codemirror_mode": {
    "name": "ipython",
    "version": 3
   },
   "file_extension": ".py",
   "mimetype": "text/x-python",
   "name": "python",
   "nbconvert_exporter": "python",
   "pygments_lexer": "ipython3",
   "version": "3.7.9"
  }
 },
 "nbformat": 4,
 "nbformat_minor": 4
}
