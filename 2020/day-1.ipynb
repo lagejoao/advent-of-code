{
 "cells": [
  {
   "cell_type": "code",
   "execution_count": 1,
   "metadata": {},
   "outputs": [],
   "source": [
    "with open(\"day-1-input.txt\", \"rt\") as f:\n",
    "    inp = f.readlines()\n",
    "\n",
    "inp = [int(l.strip()) for l in inp]"
   ]
  },
  {
   "cell_type": "code",
   "execution_count": 2,
   "metadata": {},
   "outputs": [],
   "source": [
    "total = 2020"
   ]
  },
  {
   "cell_type": "code",
   "execution_count": 3,
   "metadata": {},
   "outputs": [],
   "source": [
    "def get_two_sum(inp, total):\n",
    "    remainings = {}\n",
    "    for val in inp:\n",
    "        rest = total - val\n",
    "        if val in remainings:\n",
    "            return remainings[val], val\n",
    "        else:\n",
    "            remainings[rest] = val"
   ]
  },
  {
   "cell_type": "code",
   "execution_count": 4,
   "metadata": {},
   "outputs": [
    {
     "name": "stdout",
     "output_type": "stream",
     "text": [
      "(1191, 829)\n",
      "987339\n"
     ]
    }
   ],
   "source": [
    "res = get_two_sum(inp, total)\n",
    "print(res)\n",
    "print(res[0] * res[1])"
   ]
  },
  {
   "cell_type": "markdown",
   "metadata": {},
   "source": [
    "---"
   ]
  },
  {
   "cell_type": "markdown",
   "metadata": {},
   "source": [
    "## part 2"
   ]
  },
  {
   "cell_type": "code",
   "execution_count": 5,
   "metadata": {},
   "outputs": [],
   "source": [
    "def get_3_sum(inp, total):\n",
    "    inp_s = sorted(inp)\n",
    "\n",
    "    for i in range(len(inp_s) - 2):\n",
    "        a = inp_s[i]\n",
    "        start = i + 1\n",
    "        end = len(inp_s) - 1\n",
    "        while start < end:\n",
    "            b = inp_s[start]\n",
    "            c = inp_s[end]\n",
    "            if a + b + c == total:\n",
    "                return a, b, c\n",
    "            elif a + b + c > total:\n",
    "                end -= 1\n",
    "            else:\n",
    "                start += 1"
   ]
  },
  {
   "cell_type": "code",
   "execution_count": 6,
   "metadata": {},
   "outputs": [
    {
     "name": "stdout",
     "output_type": "stream",
     "text": [
      "(418, 657, 945)\n",
      "259521570\n"
     ]
    }
   ],
   "source": [
    "res = get_3_sum(inp, total)\n",
    "print(res)\n",
    "print(res[0] * res[1] * res[2])"
   ]
  },
  {
   "cell_type": "code",
   "execution_count": null,
   "metadata": {},
   "outputs": [],
   "source": []
  }
 ],
 "metadata": {
  "kernelspec": {
   "display_name": "Python 3",
   "language": "python",
   "name": "python3"
  },
  "language_info": {
   "codemirror_mode": {
    "name": "ipython",
    "version": 3
   },
   "file_extension": ".py",
   "mimetype": "text/x-python",
   "name": "python",
   "nbconvert_exporter": "python",
   "pygments_lexer": "ipython3",
   "version": "3.7.9"
  }
 },
 "nbformat": 4,
 "nbformat_minor": 4
}
